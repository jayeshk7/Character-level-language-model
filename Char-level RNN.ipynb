{
 "cells": [
  {
   "cell_type": "markdown",
   "metadata": {},
   "source": [
    "## Data preprocessing\n",
    "\n",
    "1. Cell 1 imports all the important libraries.\n",
    "2. Cell 2 downloads the data. \n",
    "    - The module 'requests' is used to send HTTP requests.\n",
    "       - We store the names of all the pokemons in full_names.\n",
    "3. Cell 3 does all the important preprocessing tasks.\n",
    "    - Firstly, digits and special symbols are removed using maketrans() and translate() functions.\n",
    "    - After creating a set of the list of characters and words(to delete duplicates), two dictionaries char2int\n",
    "      and int2char are created to assign each character an integer and vice-versa. This is going to help while creating \n",
    "      one hot vectors and also while training(to access ground truth labels).\n",
    "4. After executing cell 4, we get the tensor with the help of which we can access characters."
   ]
  },
  {
   "cell_type": "code",
   "execution_count": 1,
   "metadata": {},
   "outputs": [],
   "source": [
    "import torch\n",
    "import numpy as np\n",
    "import requests\n",
    "import string\n",
    "from string import digits\n",
    "from torch import nn\n",
    "import matplotlib.pyplot as plt\n",
    "from scipy.ndimage import gaussian_filter"
   ]
  },
  {
   "cell_type": "code",
   "execution_count": 3,
   "metadata": {},
   "outputs": [],
   "source": [
    "result = requests.get(\"https://pokeapi.co/api/v2/pokemon/?limit=1000\").json()\n",
    "full_names = [result['results'][i]['name'] for i in range(result['count'])]"
   ]
  },
  {
   "cell_type": "code",
   "execution_count": 4,
   "metadata": {},
   "outputs": [],
   "source": [
    "li = []\n",
    "chars = []\n",
    "char2int = {}\n",
    "int2char = {}\n",
    "\n",
    "\n",
    "for namu in full_names:\n",
    "    namu = namu.translate(str.maketrans('','',digits))\n",
    "    if namu not in li:\n",
    "        namu = namu.translate({ord(c): \" \" for c in \"!@#$%^&*()[]{};:,./<>?\\|`~-=_+\"})\n",
    "        li.append(namu)\n",
    "        for i in namu:\n",
    "            chars.append(i)\n",
    "            \n",
    "            \n",
    "chars = set(chars)\n",
    "li = set(li)\n",
    "\n",
    "\n",
    "for j,char in enumerate(chars):\n",
    "    char2int[char] = j\n",
    "    int2char[j] = char"
   ]
  },
  {
   "cell_type": "code",
   "execution_count": 5,
   "metadata": {},
   "outputs": [],
   "source": [
    "one_hots = torch.zeros(len(chars)+1,len(chars)+1)\n",
    "for i in range(0,len(chars)):\n",
    "    one_hots[i][char2int[int2char[i]]] = 1\n",
    "    \n",
    "vocab_size = len(set(chars))+1"
   ]
  },
  {
   "cell_type": "markdown",
   "metadata": {},
   "source": [
    "## Model\n",
    "\n",
    "- Our model is defined here. \n",
    "- Hidden nodes of fully connected layer is initialised to 1024. nn.LSTM() initialises it's hidden weights to zeros if it is \n",
    "   not sent as a parameter explicitly. Here we let it initialise it to zero by itself to make our life easier.\n",
    "- Here our block is designed as one LSTM cell followed by a fully connected layer. We use Adam as our model's optimizer.\n",
    "- Model().cuda() utilises GPU cores for training. "
   ]
  },
  {
   "cell_type": "code",
   "execution_count": 15,
   "metadata": {},
   "outputs": [],
   "source": [
    "class Model(nn.Module):\n",
    "    def __init__(self, hidden_size=1024,vocab_size=28):\n",
    "        super(Model, self).__init__()\n",
    "        \n",
    "        self.hidden_size = hidden_size\n",
    "        \n",
    "        self.lstm = nn.LSTM(vocab_size, hidden_size, batch_first=True, bidirectional=False) \n",
    "        \n",
    "        self.fc = nn.Linear(hidden_size,vocab_size)\n",
    "\n",
    "    def forward(self, x):\n",
    "        output, hidden = self.lstm(x)    \n",
    "        out = self.fc(output)\n",
    "        return out,hidden\n",
    "    "
   ]
  },
  {
   "cell_type": "code",
   "execution_count": 16,
   "metadata": {},
   "outputs": [],
   "source": [
    "net = Model().cuda()\n",
    "optimizer = torch.optim.Adam(net.parameters())\n",
    "lossfn= nn.CrossEntropyLoss() "
   ]
  },
  {
   "cell_type": "markdown",
   "metadata": {},
   "source": [
    "## Training \n",
    "\n",
    "- nn.LSTM expects it's parameters in a certain manner. We use .unsqueeze() to make sure we get the correct dimension.\n",
    "- Loss is printed after every epoch.\n",
    "- We append every loss to the costs list and plot the graph at the end of our training. It helps in understanding how our model is performing. "
   ]
  },
  {
   "cell_type": "code",
   "execution_count": 8,
   "metadata": {},
   "outputs": [
    {
     "name": "stdout",
     "output_type": "stream",
     "text": [
      "1.9772729873657227\n",
      "1.985729694366455\n",
      "1.9703121185302734\n",
      "1.9516973495483398\n",
      "1.9348889589309692\n",
      "1.9204928874969482\n",
      "1.909008264541626\n",
      "1.9004110097885132\n",
      "1.8942530155181885\n",
      "1.8898963928222656\n",
      "1.8865076303482056\n",
      "1.8835840225219727\n",
      "1.8808891773223877\n",
      "1.8784518241882324\n",
      "1.8763799667358398\n",
      "1.8745813369750977\n",
      "1.8730289936065674\n",
      "1.8719617128372192\n",
      "1.8715084791183472\n",
      "1.8715498447418213\n",
      "end\n"
     ]
    }
   ],
   "source": [
    "costs = []\n",
    "epochs = 20\n",
    "\n",
    "for i in range(epochs):\n",
    "    \n",
    "    for names in li:\n",
    "            \n",
    "        for number,letter in enumerate(names):\n",
    "            \n",
    "            inputs = one_hots[char2int[letter]]\n",
    "            inputs = torch.unsqueeze(torch.unsqueeze(inputs,0),0)\n",
    "            output, hidden = net(inputs.cuda())\n",
    "            \n",
    "            if(number==len(names)-1):\n",
    "                ytarget = torch.tensor([27],dtype=torch.int64)\n",
    "            \n",
    "            else:\n",
    "                ytarget = torch.tensor([char2int[names[number+1]]], dtype = torch.int64)\n",
    "\n",
    "            output = output.view(1,-1)\n",
    "            \n",
    "            loss = lossfn(output.cuda(),ytarget.cuda())\n",
    "            costs.append(loss)\n",
    "            \n",
    "            optimizer.zero_grad()\n",
    "            \n",
    "            loss.backward()\n",
    "            \n",
    "            optimizer.step()\n",
    "            \n",
    "            if(number==len(names)):\n",
    "                break\n",
    "        \n",
    "    print(loss.item())\n",
    "                \n",
    "print('end')"
   ]
  },
  {
   "cell_type": "code",
   "execution_count": 9,
   "metadata": {},
   "outputs": [
    {
     "data": {
      "text/plain": [
       "[<matplotlib.lines.Line2D at 0x1d89e1b93c8>]"
      ]
     },
     "execution_count": 9,
     "metadata": {},
     "output_type": "execute_result"
    },
    {
     "data": {
      "image/png": "[encoded data removed]",
      "text/plain": [
       "<Figure size 432x288 with 1 Axes>"
      ]
     },
     "metadata": {
      "needs_background": "light"
     },
     "output_type": "display_data"
    }
   ],
   "source": [
    "plt.plot(costs)"
   ]
  },
  {
   "cell_type": "code",
   "execution_count": 12,
   "metadata": {},
   "outputs": [
    {
     "data": {
      "text/plain": [
       "[<matplotlib.lines.Line2D at 0x1d8f070dbc8>]"
      ]
     },
     "execution_count": 12,
     "metadata": {},
     "output_type": "execute_result"
    },
    {
     "data": {
      "image/png": "[encoded data removed]",
      "text/plain": [
       "<Figure size 432x288 with 1 Axes>"
      ]
     },
     "metadata": {
      "needs_background": "light"
     },
     "output_type": "display_data"
    }
   ],
   "source": [
    "cost = [float(i.cpu().detach()) for i in costs]\n",
    "smooth = gaussian_filter(cost,sigma=900)\n",
    "plt.plot(smooth)"
   ]
  },
  {
   "cell_type": "markdown",
   "metadata": {},
   "source": [
    "## Some observations\n",
    "\n",
    "- The loss shown remains more or less same because it represents the loss corresponding to the last character of the last word. But there are no set of rules that dictate how letters should occur in a pokemon's name so our model never really learns what to predict. But the graph shows that it does learn some patterns, maybe something like how vowels are important and how to use it. \n",
    "- The first graph makes it really difficult to infer anything since our training is very stochastic in nature. So we use a  gaussian filter to help understand the trend of the loss graph.\n",
    "- In the second graph we see (20)bumps in the graph. Each bump corresponds to an epoch. So we can now understand that after every epoch our model gets better at predicting characters but it seems that after a point it will take a long time to see any significant improvement in our model."
   ]
  }
 ],
 "metadata": {
  "kernelspec": {
   "display_name": "Python 3",
   "language": "python",
   "name": "python3"
  },
  "language_info": {
   "codemirror_mode": {
    "name": "ipython",
    "version": 3
   },
   "file_extension": ".py",
   "mimetype": "text/x-python",
   "name": "python",
   "nbconvert_exporter": "python",
   "pygments_lexer": "ipython3",
   "version": "3.7.4"
  }
 },
 "nbformat": 4,
 "nbformat_minor": 2
}
