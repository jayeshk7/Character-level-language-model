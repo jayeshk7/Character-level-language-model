{
 "cells": [
  {
   "cell_type": "code",
   "execution_count": 1,
   "metadata": {},
   "outputs": [],
   "source": [
    "import torch\n",
    "import numpy as np\n",
    "import requests\n",
    "import string\n",
    "from string import digits\n",
    "from torch import nn\n",
    "import matplotlib.pyplot as plt\n",
    "from scipy.ndimage import gaussian_filter\n",
    "import random"
   ]
  },
  {
   "cell_type": "code",
   "execution_count": 2,
   "metadata": {},
   "outputs": [],
   "source": [
    "result = requests.get(\"https://pokeapi.co/api/v2/pokemon/?limit=1000\").json()\n",
    "full_names = [result['results'][i]['name'] for i in range(result['count'])]"
   ]
  },
  {
   "cell_type": "code",
   "execution_count": 3,
   "metadata": {},
   "outputs": [],
   "source": [
    "li = []\n",
    "chars = []\n",
    "char2int = {}\n",
    "int2char = {}\n",
    "\n",
    "# REMOVES DIGITS, PUNCTUATIONS, GETS VOCAB_SIZE ETC.\n",
    "\n",
    "for namu in full_names:\n",
    "    namu = namu.translate(str.maketrans('','',digits))\n",
    "    if namu not in li:\n",
    "        namu = namu.translate({ord(c): \" \" for c in \"!@#$%^&*()[]{};:,./<>?\\|`~-=_+\"})\n",
    "        li.append(namu)\n",
    "        for i in namu:\n",
    "            chars.append(i)\n",
    "            \n",
    "            \n",
    "chars = set(chars)\n",
    "li = set(li)\n",
    "\n",
    "\n",
    "for j,char in enumerate(chars):\n",
    "    char2int[char] = j\n",
    "    int2char[j] = char"
   ]
  },
  {
   "cell_type": "code",
   "execution_count": 213,
   "metadata": {},
   "outputs": [],
   "source": [
    "one_hots = torch.zeros(len(chars),len(chars))\n",
    "for i in range(0,len(chars)-1):\n",
    "    one_hots[i][char2int[int2char[i]]] = 1\n",
    "    \n",
    "vocab_size = len(set(chars))"
   ]
  },
  {
   "cell_type": "markdown",
   "metadata": {},
   "source": [
    "- **nn.LSTM() initialises it's hidden weights to zeros if it is not sent as a parameter explicitly.** Here we let it initialise it to zero by itself to make our life easier."
   ]
  },
  {
   "cell_type": "code",
   "execution_count": 368,
   "metadata": {},
   "outputs": [],
   "source": [
    "class Model(nn.Module):\n",
    "    def __init__(self, hidden_size, vocab_size, num_layers):\n",
    "        super(Model, self).__init__()\n",
    "        \n",
    "        self.hidden_size = hidden_size\n",
    "        self.num_layers = num_layers\n",
    "        self.rnn = nn.LSTM(vocab_size, hidden_size, num_layers, batch_first=True, bidirectional=False) \n",
    "\n",
    "        # vocab size is the length of input size = number of features through each timestep\n",
    "        # hidden size is the number of nodes in each timestep\n",
    "        # num layers is the number of stacked RNN\n",
    "        \n",
    "        self.fc = nn.Linear(hidden_size,vocab_size)\n",
    "\n",
    "    def forward(self, x):\n",
    "        \n",
    "        output, hidden = self.rnn(x)  \n",
    "        \n",
    "        # output dim = (seq_len, batch, num_direction*hidden_size)\n",
    "        # hidden = (num_layers*num_directions, batch, hidden_size)\n",
    "        \n",
    "        out = self.fc(output)\n",
    "        \n",
    "        return out,hidden\n",
    "    "
   ]
  },
  {
   "cell_type": "code",
   "execution_count": 370,
   "metadata": {},
   "outputs": [],
   "source": [
    "net = Model(hidden_size = 512, vocab_size = vocab_size, num_layers = 2).cuda()\n",
    "optimizer = torch.optim.AdamW(net.parameters())\n",
    "lossfn= nn.CrossEntropyLoss() "
   ]
  },
  {
   "cell_type": "code",
   "execution_count": 371,
   "metadata": {},
   "outputs": [],
   "source": [
    "def save_checkpoint(state, filename='model_checkpoint.pth'):\n",
    "    print('Saving checkpoint')\n",
    "    torch.save(state, filename)\n",
    "    \n",
    "def load_checkpoint(checkpoint):\n",
    "    print('Loading checkpoint')\n",
    "    net.load_state_dict(checkpoint['state_dict'])"
   ]
  },
  {
   "cell_type": "markdown",
   "metadata": {},
   "source": [
    "**- nn.LSTM expects it's parameters in a certain manner. We use .unsqueeze() to make sure we get the correct dimension.**"
   ]
  },
  {
   "cell_type": "code",
   "execution_count": 406,
   "metadata": {},
   "outputs": [
    {
     "name": "stdout",
     "output_type": "stream",
     "text": [
      "epoch number = 10, total epoch loss = 21173.84325297177\n",
      "Saving checkpoint\n",
      "epoch number = 20, total epoch loss = 21182.610448390245\n",
      "Saving checkpoint\n",
      "epoch number = 30, total epoch loss = 21171.01497876644\n",
      "Saving checkpoint\n",
      "epoch number = 40, total epoch loss = 21178.054693222046\n",
      "Saving checkpoint\n",
      "END\n"
     ]
    }
   ],
   "source": [
    "# TRAINING PHASE\n",
    "\n",
    "costs = []\n",
    "epochs = 40\n",
    "\n",
    "for i in range(epochs):\n",
    "    \n",
    "    epoch_loss = 0\n",
    "    for names in li:\n",
    "            \n",
    "        for number,letter in enumerate(names):\n",
    "            \n",
    "            inputs = one_hots[char2int[letter]]\n",
    "            inputs = torch.unsqueeze(torch.unsqueeze(inputs,0),0)\n",
    "            prediction, hidden = net(inputs.cuda())\n",
    "            \n",
    "            # prediction dims = (seq_len, batch, num_direction*hidden_size)\n",
    "            \n",
    "            if(number==len(names)-1):\n",
    "                ytarget = torch.tensor([25],dtype=torch.int64)    \n",
    "            else:\n",
    "                ytarget = torch.tensor([char2int[names[number+1]]], dtype = torch.int64)\n",
    "                \n",
    "\n",
    "            prediction = prediction.view(1,-1)\n",
    "\n",
    "            loss = lossfn(prediction.cuda(),ytarget.cuda())\n",
    "            costs.append(loss.item())\n",
    "            epoch_loss += loss.item()\n",
    "            \n",
    "            optimizer.zero_grad()\n",
    "            loss.backward()\n",
    "            optimizer.step()\n",
    "            \n",
    "            if(number==len(names)):\n",
    "                break\n",
    "            \n",
    "    if (i+1)%10 == 0:\n",
    "        print(f'epoch number = {i+1}, total epoch loss = {epoch_loss}')\n",
    "        checkpoint = {'state_dict' : net.state_dict()}\n",
    "        save_checkpoint(checkpoint)\n",
    "                    \n",
    "print('END')"
   ]
  },
  {
   "cell_type": "code",
   "execution_count": 407,
   "metadata": {
    "scrolled": true
   },
   "outputs": [
    {
     "data": {
      "text/plain": [
       "[<matplotlib.lines.Line2D at 0x7f6cc4f55c50>]"
      ]
     },
     "execution_count": 407,
     "metadata": {},
     "output_type": "execute_result"
    },
    {
     "data": {
      "image/png": "[encoded data removed]",
      "text/plain": [
       "<Figure size 432x288 with 1 Axes>"
      ]
     },
     "metadata": {
      "needs_background": "light"
     },
     "output_type": "display_data"
    }
   ],
   "source": [
    "plt.plot(costs)"
   ]
  },
  {
   "cell_type": "code",
   "execution_count": 408,
   "metadata": {},
   "outputs": [
    {
     "data": {
      "text/plain": [
       "[<matplotlib.lines.Line2D at 0x7f6ce01c4b50>]"
      ]
     },
     "execution_count": 408,
     "metadata": {},
     "output_type": "execute_result"
    },
    {
     "data": {
      "image/png": "[encoded data removed]",
      "text/plain": [
       "<Figure size 432x288 with 1 Axes>"
      ]
     },
     "metadata": {
      "needs_background": "light"
     },
     "output_type": "display_data"
    }
   ],
   "source": [
    "cost = [float(i) for i in costs]\n",
    "smooth = gaussian_filter(cost,sigma=1000)\n",
    "plt.plot(smooth)"
   ]
  },
  {
   "cell_type": "code",
   "execution_count": 411,
   "metadata": {},
   "outputs": [
    {
     "name": "stdout",
     "output_type": "stream",
     "text": [
      "word with a = acgaeria\n",
      "word with b = bll \n",
      "word with c = critetea\n",
      "word with d = deiriio \n",
      "word with e = el \n",
      "word with f = f \n",
      "word with g = g \n",
      "word with h = hulaneet\n",
      "word with i = iciraano\n",
      "word with j = jrtgieie\n",
      "word with k = kytnorer\n",
      "word with l = li \n",
      "word with m = man \n",
      "word with n = ntt \n",
      "word with o = oteta \n",
      "word with p = puaearin\n",
      "word with q = qilornoe\n",
      "word with r = raettere\n",
      "word with s = sitorenn\n",
      "word with t = tooo \n",
      "word with u = un \n",
      "word with v = vdnirnno\n",
      "word with w = w \n",
      "word with x = xynenrai\n",
      "word with y = yaoraoni\n",
      "word with z = zeronaar\n"
     ]
    }
   ],
   "source": [
    "# GENERATION\n",
    "\n",
    "net.eval()\n",
    "\n",
    "ls = ['a','b','c','d','e','f','g','h','i','j','k','l','m','n','o','p','q','r','s','t','u','v','w','x','y','z']\n",
    "\n",
    "with torch.no_grad():\n",
    "    \n",
    "    for i in ls:\n",
    "        \n",
    "        a = '' + i\n",
    "        length = 1\n",
    "        inputs = one_hots[char2int[i]]\n",
    "        inputs = torch.unsqueeze(torch.unsqueeze(inputs, 0), 0).cuda()\n",
    "        while(1):\n",
    "            \n",
    "            length += 1\n",
    "            output,hidden = net(inputs)\n",
    "            output = output.reshape(-1)\n",
    "            output = nn.functional.softmax(output, dim=0)\n",
    "        \n",
    "            scores, indices = output.topk(8)\n",
    "            index = random.choice(indices).item()\n",
    "            a += int2char[index]\n",
    "            if index == 25 or length==8:\n",
    "                break\n",
    "\n",
    "            inputs = output\n",
    "            inputs = torch.unsqueeze(torch.unsqueeze(inputs, 0),0)\n",
    "        print(f'word with {i} = {a}')"
   ]
  },
  {
   "cell_type": "code",
   "execution_count": 405,
   "metadata": {},
   "outputs": [
    {
     "name": "stdout",
     "output_type": "stream",
     "text": [
      "Loading checkpoint\n"
     ]
    },
    {
     "data": {
      "text/plain": [
       "Model(\n",
       "  (rnn): LSTM(27, 512, num_layers=2, batch_first=True)\n",
       "  (fc): Linear(in_features=512, out_features=27, bias=True)\n",
       ")"
      ]
     },
     "execution_count": 405,
     "metadata": {},
     "output_type": "execute_result"
    }
   ],
   "source": [
    "load_checkpoint(torch.load('model_checkpoint.pth'))\n",
    "net.train()"
   ]
  },
  {
   "cell_type": "markdown",
   "metadata": {},
   "source": [
    "## Some observations\n",
    "\n",
    "It is difficult to learn patterns in pokemon's names, it is so freaking random.\n",
    "I spent a few hours training this on my laptop, but all in vain. :pepe_hands\n",
    "\n",
    "Point to note : I performed sgd and didn't use batches, it probably increased my training time a lot\n",
    "\n",
    "I officially hate NLP and i'm never doing this again :pepe_cry"
   ]
  }
 ],
 "metadata": {
  "kernelspec": {
   "display_name": "Python 3",
   "language": "python",
   "name": "python3"
  },
  "language_info": {
   "codemirror_mode": {
    "name": "ipython",
    "version": 3
   },
   "file_extension": ".py",
   "mimetype": "text/x-python",
   "name": "python",
   "nbconvert_exporter": "python",
   "pygments_lexer": "ipython3",
   "version": "3.7.6"
  }
 },
 "nbformat": 4,
 "nbformat_minor": 2
}
