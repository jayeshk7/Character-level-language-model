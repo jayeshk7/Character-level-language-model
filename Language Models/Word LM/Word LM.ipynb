{
 "cells": [
  {
   "cell_type": "code",
   "execution_count": 1,
   "metadata": {
    "_cell_guid": "79c7e3d0-c299-4dcb-8224-4455121ee9b0",
    "_uuid": "d629ff2d2480ee46fbb7e2d37f6b5fab8052498a"
   },
   "outputs": [],
   "source": [
    "import torch\n",
    "import torch.nn as nn\n",
    "import numpy\n",
    "import nltk\n",
    "import re\n",
    "import string\n",
    "import matplotlib.pyplot as plt\n",
    "import random"
   ]
  },
  {
   "cell_type": "code",
   "execution_count": 2,
   "metadata": {},
   "outputs": [],
   "source": [
    "f = open(r\"/home/kandpal/Desktop/Intro to NLP/Language Models/Dataset/shakespeare sonnets.txt\",\"r\",encoding='utf-8-sig')\n",
    "\n",
    "words=''\n",
    "for i in f:\n",
    "    words += i\n",
    "    \n",
    "# string mein store kiya kyuki string operations karne hai baad mein\n",
    "# utf-8-sig instead of just utf-8 kyuki kuch toh special characters read karne mein problem aata hai utf-8 ko"
   ]
  },
  {
   "cell_type": "code",
   "execution_count": 3,
   "metadata": {},
   "outputs": [],
   "source": [
    "words = words.translate(str.maketrans('','',string.digits))\n",
    "words = words.translate(str.maketrans('','',string.punctuation))\n",
    "words = str(words.lower())\n",
    "\n",
    "words = nltk.word_tokenize(words)\n",
    "\n",
    "# digit punctuation nikalke tokenize kiya"
   ]
  },
  {
   "cell_type": "code",
   "execution_count": 4,
   "metadata": {},
   "outputs": [],
   "source": [
    "vocab_size = len(set(words))\n",
    "vocab = set(words)\n",
    "\n",
    "int2word = {}\n",
    "word2int = {}\n",
    "\n",
    "for ids,unique in enumerate(vocab):\n",
    "    word2int[unique] = ids\n",
    "    int2word[ids] = unique"
   ]
  },
  {
   "cell_type": "code",
   "execution_count": 102,
   "metadata": {},
   "outputs": [],
   "source": [
    "class Model(nn.Module):\n",
    "    def __init__(self,embbsize, vocab_size, hidden_size):\n",
    "        \n",
    "        super(Model, self).__init__() \n",
    "        self.embeddings = nn.Embedding(vocab_size, embbsize)\n",
    "        self.embeddings.requires_grad = False\n",
    "        self.lstm = nn.LSTM(embbsize, hidden_size, num_layers=2, dropout=0.5, batch_first=True)\n",
    "        self.fc = nn.Linear(hidden_size,vocab_size)\n",
    "\n",
    "    def forward(self, x):\n",
    "        \n",
    "        word_vec = self.embeddings(x)\n",
    "        word_vec = torch.unsqueeze(word_vec, 0)\n",
    "        # lstm ko (1,1,inputsize) chahiye hota hai but sirf (1,inputsize) hai abhi so unsqueeze\n",
    "        output, hidden = self.lstm(word_vec)    \n",
    "        out = self.fc(output)\n",
    "        \n",
    "        return out,hidden"
   ]
  },
  {
   "cell_type": "code",
   "execution_count": 176,
   "metadata": {},
   "outputs": [],
   "source": [
    "net = Model(embbsize = 200, vocab_size = vocab_size, hidden_size = 1024).cuda()\n",
    "\n",
    "optimizer = torch.optim.Adam(net.parameters(), lr=1e-4, weight_decay=1e-4, amsgrad=True)\n",
    "lossfn = nn.CrossEntropyLoss() "
   ]
  },
  {
   "cell_type": "code",
   "execution_count": 172,
   "metadata": {},
   "outputs": [],
   "source": [
    "def save_checkpoint(state, filename='model_checkpoint.pth'):\n",
    "    print('Saved checkpoint')\n",
    "    torch.save(state, filename)\n",
    "    \n",
    "    \n",
    "def load_checkpoint(checkpoint):\n",
    "    print('Loading checkpoint')\n",
    "    torch.load(checkpoint['state_dict'])"
   ]
  },
  {
   "cell_type": "code",
   "execution_count": 217,
   "metadata": {
    "scrolled": false
   },
   "outputs": [
    {
     "name": "stdout",
     "output_type": "stream",
     "text": [
      "epoch number 5 | latest epoch loss = 102339.11439156532 | latest loss per word = 5.600257983559446\n",
      "Saved checkpoint\n",
      "epoch number 10 | latest epoch loss = 91526.31574296951 | latest loss per word = 5.008553997098036\n",
      "Saved checkpoint\n",
      "epoch number 15 | latest epoch loss = 81805.31275141239 | latest loss per word = 4.47659586031588\n",
      "Saved checkpoint\n"
     ]
    },
    {
     "ename": "KeyboardInterrupt",
     "evalue": "",
     "output_type": "error",
     "traceback": [
      "\u001b[0;31m---------------------------------------------------------------------------\u001b[0m",
      "\u001b[0;31mKeyboardInterrupt\u001b[0m                         Traceback (most recent call last)",
      "\u001b[0;32m<ipython-input-217-dea5f5b1794d>\u001b[0m in \u001b[0;36m<module>\u001b[0;34m\u001b[0m\n\u001b[1;32m     27\u001b[0m         \u001b[0moptimizer\u001b[0m\u001b[0;34m.\u001b[0m\u001b[0mzero_grad\u001b[0m\u001b[0;34m(\u001b[0m\u001b[0;34m)\u001b[0m\u001b[0;34m\u001b[0m\u001b[0;34m\u001b[0m\u001b[0m\n\u001b[1;32m     28\u001b[0m         \u001b[0mloss\u001b[0m\u001b[0;34m.\u001b[0m\u001b[0mbackward\u001b[0m\u001b[0;34m(\u001b[0m\u001b[0;34m)\u001b[0m\u001b[0;34m\u001b[0m\u001b[0;34m\u001b[0m\u001b[0m\n\u001b[0;32m---> 29\u001b[0;31m         \u001b[0moptimizer\u001b[0m\u001b[0;34m.\u001b[0m\u001b[0mstep\u001b[0m\u001b[0;34m(\u001b[0m\u001b[0;34m)\u001b[0m\u001b[0;34m\u001b[0m\u001b[0;34m\u001b[0m\u001b[0m\n\u001b[0m\u001b[1;32m     30\u001b[0m \u001b[0;34m\u001b[0m\u001b[0m\n\u001b[1;32m     31\u001b[0m     \u001b[0mtotal_loss\u001b[0m\u001b[0;34m.\u001b[0m\u001b[0mappend\u001b[0m\u001b[0;34m(\u001b[0m\u001b[0mepoch_loss\u001b[0m\u001b[0;34m)\u001b[0m\u001b[0;34m\u001b[0m\u001b[0;34m\u001b[0m\u001b[0m\n",
      "\u001b[0;32m~/anaconda3/lib/python3.7/site-packages/torch/autograd/grad_mode.py\u001b[0m in \u001b[0;36mdecorate_context\u001b[0;34m(*args, **kwargs)\u001b[0m\n\u001b[1;32m     13\u001b[0m         \u001b[0;32mdef\u001b[0m \u001b[0mdecorate_context\u001b[0m\u001b[0;34m(\u001b[0m\u001b[0;34m*\u001b[0m\u001b[0margs\u001b[0m\u001b[0;34m,\u001b[0m \u001b[0;34m**\u001b[0m\u001b[0mkwargs\u001b[0m\u001b[0;34m)\u001b[0m\u001b[0;34m:\u001b[0m\u001b[0;34m\u001b[0m\u001b[0;34m\u001b[0m\u001b[0m\n\u001b[1;32m     14\u001b[0m             \u001b[0;32mwith\u001b[0m \u001b[0mself\u001b[0m\u001b[0;34m:\u001b[0m\u001b[0;34m\u001b[0m\u001b[0;34m\u001b[0m\u001b[0m\n\u001b[0;32m---> 15\u001b[0;31m                 \u001b[0;32mreturn\u001b[0m \u001b[0mfunc\u001b[0m\u001b[0;34m(\u001b[0m\u001b[0;34m*\u001b[0m\u001b[0margs\u001b[0m\u001b[0;34m,\u001b[0m \u001b[0;34m**\u001b[0m\u001b[0mkwargs\u001b[0m\u001b[0;34m)\u001b[0m\u001b[0;34m\u001b[0m\u001b[0;34m\u001b[0m\u001b[0m\n\u001b[0m\u001b[1;32m     16\u001b[0m         \u001b[0;32mreturn\u001b[0m \u001b[0mdecorate_context\u001b[0m\u001b[0;34m\u001b[0m\u001b[0;34m\u001b[0m\u001b[0m\n\u001b[1;32m     17\u001b[0m \u001b[0;34m\u001b[0m\u001b[0m\n",
      "\u001b[0;32m~/anaconda3/lib/python3.7/site-packages/torch/optim/adam.py\u001b[0m in \u001b[0;36mstep\u001b[0;34m(self, closure)\u001b[0m\n\u001b[1;32m    109\u001b[0m                 \u001b[0mstep_size\u001b[0m \u001b[0;34m=\u001b[0m \u001b[0mgroup\u001b[0m\u001b[0;34m[\u001b[0m\u001b[0;34m'lr'\u001b[0m\u001b[0;34m]\u001b[0m \u001b[0;34m/\u001b[0m \u001b[0mbias_correction1\u001b[0m\u001b[0;34m\u001b[0m\u001b[0;34m\u001b[0m\u001b[0m\n\u001b[1;32m    110\u001b[0m \u001b[0;34m\u001b[0m\u001b[0m\n\u001b[0;32m--> 111\u001b[0;31m                 \u001b[0mp\u001b[0m\u001b[0;34m.\u001b[0m\u001b[0maddcdiv_\u001b[0m\u001b[0;34m(\u001b[0m\u001b[0mexp_avg\u001b[0m\u001b[0;34m,\u001b[0m \u001b[0mdenom\u001b[0m\u001b[0;34m,\u001b[0m \u001b[0mvalue\u001b[0m\u001b[0;34m=\u001b[0m\u001b[0;34m-\u001b[0m\u001b[0mstep_size\u001b[0m\u001b[0;34m)\u001b[0m\u001b[0;34m\u001b[0m\u001b[0;34m\u001b[0m\u001b[0m\n\u001b[0m\u001b[1;32m    112\u001b[0m \u001b[0;34m\u001b[0m\u001b[0m\n\u001b[1;32m    113\u001b[0m         \u001b[0;32mreturn\u001b[0m \u001b[0mloss\u001b[0m\u001b[0;34m\u001b[0m\u001b[0;34m\u001b[0m\u001b[0m\n",
      "\u001b[0;31mKeyboardInterrupt\u001b[0m: "
     ]
    }
   ],
   "source": [
    "costs = []\n",
    "total_loss = []\n",
    "epoch = 40\n",
    "\n",
    "for i in range(epoch):\n",
    "    \n",
    "    epoch_loss = 0\n",
    "    \n",
    "    for j,cor_word in enumerate(words):\n",
    "        \n",
    "        if j==(len(words)-1): # if last word then break because i dont have a target for it\n",
    "            break\n",
    "        \n",
    "        inp_idx = word2int[words[j]]\n",
    "        inp_idx = torch.tensor([inp_idx]).cuda()\n",
    "            \n",
    "        ytarget = torch.tensor([word2int[words[j+1]]], dtype = torch.int64)\n",
    "            \n",
    "        output, hidden1 = net(inp_idx)              # output shape is ([1,1,3119])\n",
    "        \n",
    "        output = output.view(1,-1)                  # shape is ([1,3119])  \n",
    "            \n",
    "        loss = lossfn(output.cuda(),ytarget.cuda())\n",
    "        costs.append(loss)\n",
    "        epoch_loss += loss.item()\n",
    "            \n",
    "        optimizer.zero_grad()\n",
    "        loss.backward()\n",
    "        optimizer.step()\n",
    "    \n",
    "    total_loss.append(epoch_loss)\n",
    "    \n",
    "    if (i+1)%5==0:\n",
    "        print(f'epoch number {i+1} | latest epoch loss = {epoch_loss} | latest loss per word = {epoch_loss / len(words)}')\n",
    "        checkpoint = {'state_dict' : net.state_dict()}\n",
    "        save_checkpoint(checkpoint)"
   ]
  },
  {
   "cell_type": "code",
   "execution_count": 219,
   "metadata": {},
   "outputs": [
    {
     "data": {
      "text/plain": [
       "<function matplotlib.pyplot.show(*args, **kw)>"
      ]
     },
     "execution_count": 219,
     "metadata": {},
     "output_type": "execute_result"
    },
    {
     "data": {
      "image/png": "[encoded data removed]",
      "text/plain": [
       "<Figure size 1080x288 with 2 Axes>"
      ]
     },
     "metadata": {
      "needs_background": "light"
     },
     "output_type": "display_data"
    }
   ],
   "source": [
    "plt.figure(figsize=(15,4))\n",
    "\n",
    "plt.subplot(121)\n",
    "plt.plot(costs)\n",
    "plt.title('Costs')\n",
    "plt.xlabel('Iterations')\n",
    "plt.ylabel('Loss per word')\n",
    "\n",
    "plt.subplot(122)\n",
    "plt.plot(total_loss)\n",
    "plt.title('Epoch costs')\n",
    "plt.xlabel('Epochs')\n",
    "plt.ylabel('Loss per epoch')\n",
    "\n",
    "plt.show"
   ]
  },
  {
   "cell_type": "code",
   "execution_count": 220,
   "metadata": {
    "scrolled": true
   },
   "outputs": [
    {
     "data": {
      "text/plain": [
       "[<matplotlib.lines.Line2D at 0x7f327df466d0>]"
      ]
     },
     "execution_count": 220,
     "metadata": {},
     "output_type": "execute_result"
    },
    {
     "data": {
      "image/png": "[encoded data removed]",
      "text/plain": [
       "<Figure size 432x288 with 1 Axes>"
      ]
     },
     "metadata": {
      "needs_background": "light"
     },
     "output_type": "display_data"
    }
   ],
   "source": [
    "from scipy.ndimage import gaussian_filter\n",
    "\n",
    "cost = [float(i.detach().cpu()) for i in costs]\n",
    "smooth = gaussian_filter(cost,800)\n",
    "plt.plot(smooth)"
   ]
  },
  {
   "cell_type": "code",
   "execution_count": 266,
   "metadata": {},
   "outputs": [
    {
     "name": "stdout",
     "output_type": "stream",
     "text": [
      " morning it self to my love \n",
      "\n",
      " you as the sun and make war \n",
      "\n",
      " with me and beauty ’ s own \n",
      "\n",
      " in thy love and this huge we \n",
      "\n",
      " desire of thee my self thy beauty \n",
      "\n",
      " of thy beauty still weep that is \n",
      "\n",
      " so thou art so should look in \n",
      "\n",
      " the time that thou art twice in \n",
      "\n",
      " love is the day and in your \n",
      "\n",
      " own hand takes from you should my \n",
      "\n",
      " self thy self with his beauty and \n",
      "\n",
      " in my mind that which steals a \n",
      "\n",
      " little of my mind and in thy \n",
      "\n",
      " sweet semblance to be a woman ’ \n",
      "\n"
     ]
    }
   ],
   "source": [
    "# GENERATION\n",
    "\n",
    "net.eval()\n",
    "\n",
    "i = 1\n",
    "inp_idx = torch.randint(vocab_size, (1,))\n",
    "result = ''\n",
    "\n",
    "while(1):\n",
    "    \n",
    "    inp_idx = inp_idx.reshape(-1)\n",
    "    result += ' ' + int2word[inp_idx.item()]\n",
    "    \n",
    "    i += 1\n",
    "    if i==100:\n",
    "        break\n",
    "    if i%7 == 0:\n",
    "        print(result,'\\n')\n",
    "        result = ''\n",
    "        \n",
    "    prediction, _ = net(inp_idx.cuda())\n",
    "    prediction = prediction.reshape(-1)\n",
    "    prediction = nn.functional.softmax(prediction, dim=0)\n",
    "    \n",
    "    output, out_idx = prediction.topk(5)\n",
    "    out_idx = random.choice(out_idx)\n",
    "    inp_idx = out_idx\n",
    "    \n",
    "# print(result)"
   ]
  },
  {
   "cell_type": "code",
   "execution_count": null,
   "metadata": {},
   "outputs": [],
   "source": []
  }
 ],
 "metadata": {
  "kernelspec": {
   "display_name": "Python 3",
   "language": "python",
   "name": "python3"
  },
  "language_info": {
   "codemirror_mode": {
    "name": "ipython",
    "version": 3
   },
   "file_extension": ".py",
   "mimetype": "text/x-python",
   "name": "python",
   "nbconvert_exporter": "python",
   "pygments_lexer": "ipython3",
   "version": "3.7.6"
  }
 },
 "nbformat": 4,
 "nbformat_minor": 4
}
