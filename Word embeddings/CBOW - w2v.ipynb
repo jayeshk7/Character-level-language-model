{
 "cells": [
  {
   "cell_type": "code",
   "execution_count": 23,
   "metadata": {},
   "outputs": [],
   "source": [
    "import torch\n",
    "import torch.nn as nn\n",
    "import matplotlib.pyplot as plt\n",
    "import urllib.request\n",
    "import bs4\n",
    "import string\n",
    "import nltk"
   ]
  },
  {
   "cell_type": "code",
   "execution_count": 24,
   "metadata": {},
   "outputs": [],
   "source": [
    "scrapped_data = urllib.request.urlopen('https://en.wikipedia.org/wiki/French_Revolution')\n",
    "article = scrapped_data.read()\n",
    "\n",
    "parsed_article = bs4.BeautifulSoup(article,'lxml')\n",
    "paragraphs = parsed_article.find_all(\"p\")\n",
    "\n",
    "articles = \"\"\n",
    "\n",
    "for p in paragraphs:\n",
    "    articles += p.text\n",
    "    \n",
    "train_data = articles.translate(str.maketrans('','',string.punctuation)).lower()\n",
    "train_data = train_data.translate(str.maketrans('','',string.digits))\n",
    "\n",
    "text = nltk.word_tokenize(train_data)\n",
    "stop_words = set(nltk.corpus.stopwords.words('english'))\n",
    "\n",
    "text = [words for words in text if words not in stop_words]"
   ]
  },
  {
   "cell_type": "code",
   "execution_count": 26,
   "metadata": {},
   "outputs": [],
   "source": [
    "vocab_size = len(text)\n",
    "ls = []\n",
    "window = 2\n",
    "\n",
    "for center in range(vocab_size):\n",
    "    ls.append([context for context in range(max(0, center-window), min(vocab_size, center+window+1)) if context != center])\n",
    "    \n",
    "word2int = {}\n",
    "int2word = {}\n",
    "key = 0\n",
    "\n",
    "for word in text:\n",
    "    if word not in word2int:\n",
    "        word2int.update({word : key})\n",
    "        int2word.update({key : word})\n",
    "        key += 1"
   ]
  },
  {
   "cell_type": "code",
   "execution_count": null,
   "metadata": {},
   "outputs": [],
   "source": [
    "class cbow(nn.Module):\n",
    "    def __init__(self, vocab_len, embedding_size):\n",
    "        super(cbow, self).__init__()\n",
    "        \n",
    "        self.projections = nn.Embedding(vocab_size, embedding_size)\n",
    "        self.linear = nn.Linear(embedding_size, vocab_size)\n",
    "        \n",
    "    def forward(self, word_index):\n",
    "        \n",
    "        "
   ]
  }
 ],
 "metadata": {
  "kernelspec": {
   "display_name": "Python 3",
   "language": "python",
   "name": "python3"
  },
  "language_info": {
   "codemirror_mode": {
    "name": "ipython",
    "version": 3
   },
   "file_extension": ".py",
   "mimetype": "text/x-python",
   "name": "python",
   "nbconvert_exporter": "python",
   "pygments_lexer": "ipython3",
   "version": "3.7.6"
  }
 },
 "nbformat": 4,
 "nbformat_minor": 4
}
